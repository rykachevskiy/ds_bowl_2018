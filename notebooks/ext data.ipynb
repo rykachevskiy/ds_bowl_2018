{
 "cells": [
  {
   "cell_type": "code",
   "execution_count": 3,
   "metadata": {
    "collapsed": true
   },
   "outputs": [],
   "source": [
    "import numpy as np\n",
    "import matplotlib.pyplot as plt\n",
    "\n",
    "import os \n",
    "\n",
    "from tqdm import tqdm_notebook\n",
    "\n",
    "import cv2\n",
    "\n",
    "from scipy.io import loadmat"
   ]
  },
  {
   "cell_type": "code",
   "execution_count": 5,
   "metadata": {},
   "outputs": [
    {
     "data": {
      "text/plain": [
       "array([[148.78269485, 181.47754293],\n",
       "       [ 96.60303831, 159.68097754],\n",
       "       [ 79.42998679, 172.89101717],\n",
       "       [171.9002642 ,  71.834214  ],\n",
       "       [ 95.77741083, 116.08784676],\n",
       "       [410.34147952,  33.19484808],\n",
       "       [419.91875826,  46.73513871],\n",
       "       [172.89101717, 197.16446499],\n",
       "       [168.2675033 , 204.42998679],\n",
       "       [110.96895641, 383.42602378],\n",
       "       [108.65719947, 424.70739762],\n",
       "       [  8.52425107,  15.65691869],\n",
       "       [ 38.48145506,  39.90798859],\n",
       "       [ 22.78958631,  50.25035663],\n",
       "       [ 69.86519258,  72.00499287],\n",
       "       [328.76948481,  60.60568032],\n",
       "       [327.77873184,  79.42998679],\n",
       "       [108.65719947, 446.17371202],\n",
       "       [219.12615588, 251.32562748],\n",
       "       [111.62945839, 462.35601057],\n",
       "       [ 93.90846995, 177.41256831],\n",
       "       [169.72814208, 117.64480874],\n",
       "       [ 96.29918033,  87.93169399],\n",
       "       [341.51775956, 237.18032787],\n",
       "       [458.66256831, 222.15300546],\n",
       "       [460.02868852, 207.12568306],\n",
       "       [252.3784153 ,  15.86885246],\n",
       "       [291.99590164,  55.14480874],\n",
       "       [319.31830601,  64.70765027]])"
      ]
     },
     "execution_count": 5,
     "metadata": {},
     "output_type": "execute_result"
    }
   ],
   "source": [
    "loadmat('../data/CRCHistoPhenotypes_2016_04_28/Detection/img1/img1_detection.mat')['detection']"
   ]
  },
  {
   "cell_type": "code",
   "execution_count": null,
   "metadata": {
    "collapsed": true
   },
   "outputs": [],
   "source": []
  }
 ],
 "metadata": {
  "kernelspec": {
   "display_name": "Python 3",
   "language": "python",
   "name": "python3"
  },
  "language_info": {
   "codemirror_mode": {
    "name": "ipython",
    "version": 3
   },
   "file_extension": ".py",
   "mimetype": "text/x-python",
   "name": "python",
   "nbconvert_exporter": "python",
   "pygments_lexer": "ipython3",
   "version": "3.6.3"
  }
 },
 "nbformat": 4,
 "nbformat_minor": 2
}
